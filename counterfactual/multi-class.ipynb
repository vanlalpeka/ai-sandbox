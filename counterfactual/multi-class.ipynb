{
 "cells": [
  {
   "cell_type": "markdown",
   "metadata": {},
   "source": [
    "# [Multi-class Counterfactual explanation using DiCE](https://github.com/interpretml/DiCE)\n",
    "DiCE generated Counterfactual explanations for any ML model. The algorithm is based on the paper [Explaining Machine Learning Classifiers through Diverse Counterfactual Explanations, 2020](https://arxiv.org/pdf/1905.07697).\n",
    "\n",
    "dice_ml.Data(features={}) can be defined to ensure feasibility of the Counterfactual (set).\n",
    "\n",
    "explainer.generate_counterfactuals(features_to_vary=[]) can also be defined to explicitly specify which features to perturb.\n",
    "\n",
    "    "
   ]
  },
  {
   "cell_type": "code",
   "execution_count": 11,
   "metadata": {},
   "outputs": [],
   "source": [
    "import numpy as np\n",
    "import pandas as pd\n",
    "from sklearn.datasets import load_iris\n",
    "from sklearn.ensemble import RandomForestClassifier\n",
    "from sklearn.model_selection import train_test_split\n",
    "from sklearn.metrics import accuracy_score\n",
    "import dice_ml\n",
    "from dice_ml.utils import helpers  # helper functions"
   ]
  },
  {
   "cell_type": "code",
   "execution_count": 14,
   "metadata": {},
   "outputs": [
    {
     "data": {
      "text/plain": [
       "array(['setosa', 'versicolor', 'virginica'], dtype='<U10')"
      ]
     },
     "execution_count": 14,
     "metadata": {},
     "output_type": "execute_result"
    }
   ],
   "source": [
    "# Load the Iris dataset\n",
    "iris = load_iris()\n",
    "X = iris.data\n",
    "y = iris.target_names[iris.target]\n",
    "\n",
    "# Split the dataset into training and testing sets\n",
    "X_train, X_test, y_train, y_test = train_test_split(X, y, test_size=0.3, random_state=42)\n",
    "\n",
    "iris.target_names"
   ]
  },
  {
   "cell_type": "code",
   "execution_count": 4,
   "metadata": {},
   "outputs": [
    {
     "name": "stdout",
     "output_type": "stream",
     "text": [
      "Accuracy: 1.00\n"
     ]
    }
   ],
   "source": [
    "# Train a Random Forest Classifier\n",
    "rf = RandomForestClassifier(n_estimators=100, random_state=42)\n",
    "rf.fit(X_train, y_train)\n",
    "\n",
    "# Evaluate the model\n",
    "y_pred = rf.predict(X_test)\n",
    "print(f\"Accuracy: {accuracy_score(y_test, y_pred):.2f}\")"
   ]
  },
  {
   "cell_type": "code",
   "execution_count": 5,
   "metadata": {},
   "outputs": [],
   "source": [
    "# Create a DataFrame for the features\n",
    "features_df = pd.DataFrame(X_train, columns=iris.feature_names)\n",
    "\n",
    "# Create a DataFrame for the target\n",
    "target_df = pd.DataFrame(y_train, columns=['species'])\n",
    "\n",
    "# Combine features and target into a single DataFrame\n",
    "dice_data = pd.concat([features_df, target_df], axis=1)\n",
    "\n",
    "# Define the data object for DiCE\n",
    "dice_data = dice_ml.Data(dataframe=dice_data, continuous_features=iris.feature_names, outcome_name='species')"
   ]
  },
  {
   "cell_type": "code",
   "execution_count": 6,
   "metadata": {},
   "outputs": [],
   "source": [
    "# Create the DiCE model object\n",
    "dice_model = dice_ml.Model(model=rf, backend=\"sklearn\")"
   ]
  },
  {
   "cell_type": "code",
   "execution_count": 7,
   "metadata": {},
   "outputs": [
    {
     "name": "stderr",
     "output_type": "stream",
     "text": [
      "  0%|          | 0/1 [00:00<?, ?it/s]"
     ]
    },
    {
     "name": "stderr",
     "output_type": "stream",
     "text": [
      "100%|██████████| 1/1 [00:00<00:00,  3.78it/s]"
     ]
    },
    {
     "name": "stdout",
     "output_type": "stream",
     "text": [
      "Query instance (original outcome : versicolor)\n"
     ]
    },
    {
     "name": "stderr",
     "output_type": "stream",
     "text": [
      "\n"
     ]
    },
    {
     "data": {
      "text/html": [
       "<div>\n",
       "<style scoped>\n",
       "    .dataframe tbody tr th:only-of-type {\n",
       "        vertical-align: middle;\n",
       "    }\n",
       "\n",
       "    .dataframe tbody tr th {\n",
       "        vertical-align: top;\n",
       "    }\n",
       "\n",
       "    .dataframe thead th {\n",
       "        text-align: right;\n",
       "    }\n",
       "</style>\n",
       "<table border=\"1\" class=\"dataframe\">\n",
       "  <thead>\n",
       "    <tr style=\"text-align: right;\">\n",
       "      <th></th>\n",
       "      <th>sepal length (cm)</th>\n",
       "      <th>sepal width (cm)</th>\n",
       "      <th>petal length (cm)</th>\n",
       "      <th>petal width (cm)</th>\n",
       "      <th>species</th>\n",
       "    </tr>\n",
       "  </thead>\n",
       "  <tbody>\n",
       "    <tr>\n",
       "      <th>0</th>\n",
       "      <td>6.1</td>\n",
       "      <td>2.8</td>\n",
       "      <td>4.7</td>\n",
       "      <td>1.2</td>\n",
       "      <td>versicolor</td>\n",
       "    </tr>\n",
       "  </tbody>\n",
       "</table>\n",
       "</div>"
      ],
      "text/plain": [
       "   sepal length (cm)  sepal width (cm)  petal length (cm)  petal width (cm)  \\\n",
       "0                6.1               2.8                4.7               1.2   \n",
       "\n",
       "      species  \n",
       "0  versicolor  "
      ]
     },
     "metadata": {},
     "output_type": "display_data"
    },
    {
     "name": "stdout",
     "output_type": "stream",
     "text": [
      "\n",
      "Diverse Counterfactual set (new outcome: virginica)\n"
     ]
    },
    {
     "data": {
      "text/html": [
       "<div>\n",
       "<style scoped>\n",
       "    .dataframe tbody tr th:only-of-type {\n",
       "        vertical-align: middle;\n",
       "    }\n",
       "\n",
       "    .dataframe tbody tr th {\n",
       "        vertical-align: top;\n",
       "    }\n",
       "\n",
       "    .dataframe thead th {\n",
       "        text-align: right;\n",
       "    }\n",
       "</style>\n",
       "<table border=\"1\" class=\"dataframe\">\n",
       "  <thead>\n",
       "    <tr style=\"text-align: right;\">\n",
       "      <th></th>\n",
       "      <th>sepal length (cm)</th>\n",
       "      <th>sepal width (cm)</th>\n",
       "      <th>petal length (cm)</th>\n",
       "      <th>petal width (cm)</th>\n",
       "      <th>species</th>\n",
       "    </tr>\n",
       "  </thead>\n",
       "  <tbody>\n",
       "    <tr>\n",
       "      <th>0</th>\n",
       "      <td>-</td>\n",
       "      <td>2.2</td>\n",
       "      <td>5.1</td>\n",
       "      <td>-</td>\n",
       "      <td>virginica</td>\n",
       "    </tr>\n",
       "    <tr>\n",
       "      <th>1</th>\n",
       "      <td>-</td>\n",
       "      <td>-</td>\n",
       "      <td>6.3</td>\n",
       "      <td>2.1</td>\n",
       "      <td>virginica</td>\n",
       "    </tr>\n",
       "    <tr>\n",
       "      <th>2</th>\n",
       "      <td>-</td>\n",
       "      <td>-</td>\n",
       "      <td>6.5</td>\n",
       "      <td>-</td>\n",
       "      <td>virginica</td>\n",
       "    </tr>\n",
       "    <tr>\n",
       "      <th>3</th>\n",
       "      <td>-</td>\n",
       "      <td>3.2</td>\n",
       "      <td>6.2</td>\n",
       "      <td>-</td>\n",
       "      <td>virginica</td>\n",
       "    </tr>\n",
       "    <tr>\n",
       "      <th>4</th>\n",
       "      <td>-</td>\n",
       "      <td>-</td>\n",
       "      <td>6.2</td>\n",
       "      <td>-</td>\n",
       "      <td>virginica</td>\n",
       "    </tr>\n",
       "  </tbody>\n",
       "</table>\n",
       "</div>"
      ],
      "text/plain": [
       "  sepal length (cm) sepal width (cm) petal length (cm) petal width (cm)  \\\n",
       "0                 -              2.2               5.1                -   \n",
       "1                 -                -               6.3              2.1   \n",
       "2                 -                -               6.5                -   \n",
       "3                 -              3.2               6.2                -   \n",
       "4                 -                -               6.2                -   \n",
       "\n",
       "     species  \n",
       "0  virginica  \n",
       "1  virginica  \n",
       "2  virginica  \n",
       "3  virginica  \n",
       "4  virginica  "
      ]
     },
     "metadata": {},
     "output_type": "display_data"
    }
   ],
   "source": [
    "# suppress UserWarning\n",
    "import warnings\n",
    "warnings.simplefilter(action='ignore', category=UserWarning)\n",
    "\n",
    "# Initialize the DiCE explainer\n",
    "explainer = dice_ml.Dice(dice_data, dice_model, method=\"random\")\n",
    "\n",
    "# Choose a sample instance from the test set\n",
    "sample_instance = X_test[0:1]\n",
    "sample_instance_df = pd.DataFrame(sample_instance, columns=iris.feature_names)\n",
    "\n",
    "# Generate counterfactuals for the sample instance\n",
    "counterfactuals = explainer.generate_counterfactuals(sample_instance_df, total_CFs=5, desired_class=2)\n",
    "\n",
    "# Visualize the counterfactuals\n",
    "counterfactuals.visualize_as_dataframe(show_only_changes=True)"
   ]
  },
  {
   "cell_type": "markdown",
   "metadata": {},
   "source": [
    "## Explanation\n",
    "Diverse Counterfactual set gives us the feature-perturbed version of the query instance. The last row of the Diverse Counterfactual set shows that if the query instance were to have a petal length of 6.2 cm as oppossed to 4.7 cm; that alone would be enough to classify the species as virginica, not versicolor. The interpretation is the same for the other rows."
   ]
  },
  {
   "cell_type": "code",
   "execution_count": 8,
   "metadata": {},
   "outputs": [
    {
     "name": "stderr",
     "output_type": "stream",
     "text": [
      "  0%|          | 0/1 [00:00<?, ?it/s]"
     ]
    },
    {
     "name": "stderr",
     "output_type": "stream",
     "text": [
      "100%|██████████| 1/1 [00:00<00:00,  3.16it/s]"
     ]
    },
    {
     "name": "stdout",
     "output_type": "stream",
     "text": [
      "[{'petal length (cm)': 0.9, 'sepal length (cm)': 0.5, 'sepal width (cm)': 0.3, 'petal width (cm)': 0.2}]\n"
     ]
    },
    {
     "name": "stderr",
     "output_type": "stream",
     "text": [
      "\n"
     ]
    }
   ],
   "source": [
    "# Local feature importance scores\n",
    "# For a given sample_instance_df, higher score implies a feature is (locally) important to get the desired_class\n",
    "\n",
    "sample_instance = X_test[0:1]\n",
    "sample_instance_df = pd.DataFrame(sample_instance, columns=iris.feature_names)\n",
    "\n",
    "local = explainer.local_feature_importance(sample_instance_df, total_CFs=10, desired_class=2)\n",
    "print(local.local_importance)"
   ]
  },
  {
   "cell_type": "markdown",
   "metadata": {},
   "source": [
    "For the sample (X_test[0:1]), petal length has highest local importance in determining the target class."
   ]
  },
  {
   "cell_type": "code",
   "execution_count": 9,
   "metadata": {},
   "outputs": [
    {
     "name": "stderr",
     "output_type": "stream",
     "text": [
      "100%|██████████| 20/20 [00:06<00:00,  2.96it/s]"
     ]
    },
    {
     "name": "stdout",
     "output_type": "stream",
     "text": [
      "{'petal length (cm)': 0.675, 'petal width (cm)': 0.535, 'sepal length (cm)': 0.355, 'sepal width (cm)': 0.22}\n"
     ]
    },
    {
     "name": "stderr",
     "output_type": "stream",
     "text": [
      "\n"
     ]
    }
   ],
   "source": [
    "# Global feature importance scores\n",
    "# Aggregate the local features importance of each input observations to get the global importance\n",
    "\n",
    "sample_instance = X_test[0:20]\n",
    "sample_instance_df = pd.DataFrame(sample_instance, columns=iris.feature_names)\n",
    "\n",
    "gbl = explainer.global_feature_importance(sample_instance_df, total_CFs=10, desired_class=2)\n",
    "print(gbl.summary_importance)"
   ]
  },
  {
   "cell_type": "markdown",
   "metadata": {},
   "source": [
    "For a set of samples (X_test[0:20]), petal length and petal width have high global importance"
   ]
  },
  {
   "cell_type": "code",
   "execution_count": 10,
   "metadata": {},
   "outputs": [
    {
     "name": "stdout",
     "output_type": "stream",
     "text": [
      "Local Counterfactuals:\n",
      "   sepal length (cm)  sepal width (cm)  petal length (cm)  petal width (cm)  \\\n",
      "0                6.1               2.8                6.1               1.2   \n",
      "1                7.6               2.8                6.0               1.2   \n",
      "2                6.1               4.0                4.7               2.2   \n",
      "3                7.3               2.8                6.8               1.2   \n",
      "4                6.1               2.8                6.3               1.9   \n",
      "5                5.6               2.8                5.7               1.2   \n",
      "6                6.1               2.0                5.1               1.2   \n",
      "7                6.1               3.2                6.0               1.2   \n",
      "8                4.5               2.8                5.8               1.2   \n",
      "9                6.8               2.8                6.2               1.2   \n",
      "\n",
      "     species  \n",
      "0  virginica  \n",
      "1  virginica  \n",
      "2  virginica  \n",
      "3  virginica  \n",
      "4  virginica  \n",
      "5  virginica  \n",
      "6  virginica  \n",
      "7  virginica  \n",
      "8  virginica  \n",
      "9  virginica  \n",
      "\n",
      "Global Counterfactuals:\n",
      "   sepal length (cm)  sepal width (cm)  petal length (cm)  petal width (cm)  \\\n",
      "0                6.1               4.2                5.3               1.2   \n",
      "1                6.1               2.8                6.1               1.2   \n",
      "2                6.1               2.8                4.7               2.5   \n",
      "3                5.8               2.8                5.1               1.2   \n",
      "4                5.5               2.8                4.7               2.6   \n",
      "5                6.1               2.8                3.3               2.5   \n",
      "6                5.3               2.8                4.7               2.5   \n",
      "7                6.1               2.8                6.5               1.7   \n",
      "8                5.6               2.8                5.3               1.2   \n",
      "9                6.1               2.8                5.8               1.4   \n",
      "\n",
      "     species  \n",
      "0  virginica  \n",
      "1  virginica  \n",
      "2  virginica  \n",
      "3  virginica  \n",
      "4  virginica  \n",
      "5  virginica  \n",
      "6  virginica  \n",
      "7  virginica  \n",
      "8  virginica  \n",
      "9  virginica  \n"
     ]
    }
   ],
   "source": [
    "# Analyze the counterfactuals\n",
    "print(\"Local Counterfactuals:\")\n",
    "print(local.cf_examples_list[0].final_cfs_df)\n",
    "\n",
    "print(\"\\nGlobal Counterfactuals:\")\n",
    "print(gbl.cf_examples_list[0].final_cfs_df)"
   ]
  }
 ],
 "metadata": {
  "kernelspec": {
   "display_name": ".xai38",
   "language": "python",
   "name": "python3"
  },
  "language_info": {
   "codemirror_mode": {
    "name": "ipython",
    "version": 3
   },
   "file_extension": ".py",
   "mimetype": "text/x-python",
   "name": "python",
   "nbconvert_exporter": "python",
   "pygments_lexer": "ipython3",
   "version": "3.8.20"
  }
 },
 "nbformat": 4,
 "nbformat_minor": 2
}
