{
 "cells": [
  {
   "cell_type": "markdown",
   "metadata": {},
   "source": [
    "# Introduction\n",
    "Tools like SHAP, LIME, and Partial Dependence Plot show which feature contribute more to the predicted outcome. Counterfactual works in the opposite direction i.e. which feature do we update in order to minimize the value of the preidicted outcome. \n",
    "\n",
    "\n",
    "Counterfactuals are also called contrastive explanations.\n",
    "\n",
    "\n",
    "# How it works\n",
    "\n",
    "\n",
    "\n",
    "# Pros\n",
    "\n",
    "\n",
    "\n",
    "# Cons"
   ]
  }
 ],
 "metadata": {
  "language_info": {
   "name": "python"
  }
 },
 "nbformat": 4,
 "nbformat_minor": 2
}
