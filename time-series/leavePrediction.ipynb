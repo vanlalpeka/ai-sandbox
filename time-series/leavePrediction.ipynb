{
 "cells": [
  {
   "cell_type": "code",
   "execution_count": null,
   "metadata": {
    "vscode": {
     "languageId": "plaintext"
    }
   },
   "outputs": [],
   "source": [
    "import pandas as pd\n",
    "import numpy as np\n",
    "import matplotlib.pyplot as plt\n",
    "\n",
    "# Load your time-series dataset\n",
    "df = pd.read_csv('../data/online-retail.csv', encoding='unicode_escape')\n",
    "\n",
    "# Convert to datetime and handle errors\n",
    "df['InvoiceDate'] = pd.to_datetime(df['InvoiceDate'], format='%Y-%m-%d %H:%M', errors='coerce')\n",
    "\n",
    "# Drop rows with invalid dates\n",
    "df.dropna(subset=['InvoiceDate'], inplace=True)\n",
    "\n",
    "# Set the date column as the index\n",
    "df.set_index('InvoiceDate', inplace=True)"
   ]
  }
 ],
 "metadata": {
  "language_info": {
   "name": "python"
  }
 },
 "nbformat": 4,
 "nbformat_minor": 2
}
