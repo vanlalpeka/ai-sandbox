{
 "cells": [
  {
   "cell_type": "markdown",
   "metadata": {},
   "source": [
    "SHAP values can explain predictions for:\n",
    "- Linear regression\n",
    "- Decision trees\n",
    "- Random forests\n",
    "- Gradient boosting models\n",
    "- Neural networks"
   ]
  }
 ],
 "metadata": {
  "language_info": {
   "name": "python"
  }
 },
 "nbformat": 4,
 "nbformat_minor": 2
}
